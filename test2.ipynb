{
 "metadata": {
  "language_info": {
   "codemirror_mode": {
    "name": "ipython",
    "version": 3
   },
   "file_extension": ".py",
   "mimetype": "text/x-python",
   "name": "python",
   "nbconvert_exporter": "python",
   "pygments_lexer": "ipython3",
   "version": "3.7.7-final"
  },
  "orig_nbformat": 2,
  "kernelspec": {
   "name": "python3",
   "display_name": "Python 3"
  }
 },
 "nbformat": 4,
 "nbformat_minor": 2,
 "cells": [
  {
   "cell_type": "code",
   "execution_count": null,
   "metadata": {},
   "outputs": [],
   "source": [
    "import warnings\n",
    "\n",
    "import pandas as pd\n",
    "\n",
    "\n",
    "\n",
    "from sklearn.linear_model import LinearRegression, Lasso, Ridge\n",
    "from sklearn.neighbors import KNeighborsRegressor\n",
    "from sklearn.svm import SVR\n",
    "from sklearn.tree import DecisionTreeRegressor\n",
    "from sklearn.model_selection import train_test_split, KFold, cross_val_score\n",
    "\n",
    "warnings.filterwarnings('ignore')\n",
    "pd.set_option('display.max_columns', None)\n",
    "pd.set_option('display.max_rows', None)\n",
    "\n",
    "\n",
    "#filename = \"C:/Datasets/amazon.csv\"\n",
    "\n",
    "names = ['X', 'Y', 'Year', 'State', 'Month', '# of Fires', 'Date', 'array']\n",
    "\n",
    "df = pd.read_csv(\"C:/Datasets/amazon.csv\", encoding='latin1', names=names)\n",
    "\n",
    "\n",
    "X = []\n",
    "Y = []\n",
    "\n",
    "num_folds = 10\n",
    "seed = 7\n",
    "scoring = 'max_error'\n",
    "scoring2 = 'neg_mean_absolute_error'\n",
    "scoring3 = 'r2'\n",
    "scoring4 = 'neg_mean_squared_error'\n",
    "\n",
    "models = []\n",
    "models.append(('LR', LinearRegression()))\n",
    "models.append(('LASSO', Lasso()))\n",
    "#models.append(('EN', ElasticNet()))\n",
    "models.append(('Ridge', Ridge()))\n",
    "\n",
    "results = []\n",
    "names = []\n",
    "for name, model in models:\n",
    "    kfold = KFold(n_splits=num_folds, random_state=seed)\n",
    "    cv_results = cross_val_score(model, X, Y, cv=kfold, scoring=scoring)\n",
    "    cv_results2 = cross_val_score(model, X, Y, cv=kfold, scoring=scoring2)\n",
    "    cv_results3 = cross_val_score(model, X, Y, cv=kfold, scoring=scoring3)\n",
    "    cv_results4 = cross_val_score(model, X, Y, cv=kfold, scoring=scoring4)\n",
    "    msg = \"%s: max error: %f, mean absolute error: %f, r2: %f, mean squared error: %f\" % (name, cv_results.mean(),\n",
    "    -cv_results2.mean(), cv_results3.mean(), -cv_results4.mean())\n",
    "\n",
    "    print(msg)\n",
    "\n",
    "\n"
   ]
  }
 ]
}