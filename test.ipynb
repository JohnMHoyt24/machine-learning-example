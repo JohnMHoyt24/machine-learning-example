{
 "metadata": {
  "language_info": {
   "codemirror_mode": {
    "name": "ipython",
    "version": 3
   },
   "file_extension": ".py",
   "mimetype": "text/x-python",
   "name": "python",
   "nbconvert_exporter": "python",
   "pygments_lexer": "ipython3",
   "version": "3.7.7-final"
  },
  "orig_nbformat": 2,
  "kernelspec": {
   "name": "python3",
   "display_name": "Python 3"
  }
 },
 "nbformat": 4,
 "nbformat_minor": 2,
 "cells": [
  {
   "cell_type": "code",
   "execution_count": 1,
   "metadata": {},
   "outputs": [
    {
     "output_type": "stream",
     "name": "stdout",
     "text": [
      "***KFold Split***\nRound                         Training set                          Training set\n    1     [ 4  5  6  7  8  9 10 11 12 13 14 15] [0 1 2 3]                \n    2     [ 0  1  2  3  8  9 10 11 12 13 14 15] [4 5 6 7]                \n    3     [ 0  1  2  3  4  5  6  7 12 13 14 15] [ 8  9 10 11]            \n    4     [ 0  1  2  3  4  5  6  7  8  9 10 11] [12 13 14 15]            \n"
     ]
    }
   ],
   "source": [
    "\n",
    "from sklearn.model_selection import train_test_split\n",
    "from sklearn.model_selection import KFold\n",
    "import numpy as np\n",
    "print('***KFold Split***')\n",
    "dataset=range(16)\n",
    "KFCrossValidator = KFold(n_splits=4, shuffle=False)\n",
    "KFdataset = KFCrossValidator.split(dataset)\n",
    "print('{} {:^61} {}'.format('Round', 'Training set', 'Training set'))\n",
    "for iteration, data in enumerate(KFdataset, start=1):\n",
    "    print('{:^9} {} {:25}'.format(iteration, data[0], str(data[1])))\n",
    "\n"
   ]
  },
  {
   "cell_type": "code",
   "execution_count": null,
   "metadata": {},
   "outputs": [],
   "source": []
  }
 ]
}